{
 "cells": [
  {
   "cell_type": "code",
   "execution_count": 2,
   "metadata": {},
   "outputs": [],
   "source": [
    "import pandas as pd"
   ]
  },
  {
   "cell_type": "code",
   "execution_count": 46,
   "metadata": {},
   "outputs": [],
   "source": [
    "raw_green = pd.read_csv(\"e_benefits.csv\")"
   ]
  },
  {
   "cell_type": "code",
   "execution_count": 47,
   "metadata": {
    "scrolled": true
   },
   "outputs": [],
   "source": [
    "raw_green = raw_green.dropna()\n",
    "raw_green = raw_green.drop(19)\n",
    "for col in raw_green.columns:\n",
    "    raw_green[col] = raw_green[col].str.strip()\n",
    "    raw_green[col] = raw_green[col].str.replace(\",\",\"\")\n",
    "raw_green[['Total CO2 eq (kg)',\n",
    "       'Equivalent trees planted required for carbon absorption',\n",
    "       'Equivalent cars off the road for a year',\n",
    "       'Distance driven in family vehicle \\n(km)']] = raw_green[['Total CO2 eq (kg)',\n",
    "       'Equivalent trees planted required for carbon absorption',\n",
    "       'Equivalent cars off the road for a year',\n",
    "       'Distance driven in family vehicle \\n(km)']].astype(int)\n",
    "raw_green = raw_green[['Total CO2 eq (kg)',\n",
    "       'Equivalent trees planted required for carbon absorption',\n",
    "       'Equivalent cars off the road for a year',\n",
    "       'Distance driven in family vehicle \\n(km)', \n",
    "     'Unnamed: 0']]\n",
    "raw_green.to_csv(\"cleaned_green.csv\", index=False)"
   ]
  },
  {
   "cell_type": "code",
   "execution_count": 69,
   "metadata": {},
   "outputs": [],
   "source": [
    "raw_energy = pd.read_csv(\"energy_benefits.csv\")\n",
    "raw_energy = raw_energy.dropna()\n",
    "for col in raw_energy.columns:\n",
    "    if raw_energy[col].dtype == float:\n",
    "        continue\n",
    "    raw_energy[col] = raw_energy[col].str.strip()\n",
    "    raw_energy[col] = raw_energy[col].str.replace(\",\",\"\")\n",
    "    \n",
    "raw_energy[[\n",
    "       'Total energy saved (megajoules LHV)',\n",
    "       'Total energy saved (gigajoules LHV)', 'Household energy use (months)',\n",
    "       'Days watching large TV',\n",
    "       'Days watching large TV for every person in Victoria']] = raw_energy[[\n",
    "       'Total energy saved (megajoules LHV)',\n",
    "       'Total energy saved (gigajoules LHV)', 'Household energy use (months)',\n",
    "       'Days watching large TV',\n",
    "       'Days watching large TV for every person in Victoria']].astype(int)\n",
    "raw_energy = raw_energy[[\n",
    "       'Total energy saved (megajoules LHV)', 'Household energy use (months)',\n",
    "       'Days watching large TV',\n",
    "       'Days watching large TV for every person in Victoria', \"Unnamed: 0\"]]\n",
    "raw_energy.to_csv(\"cleaned_energy.csv\", index=False)"
   ]
  },
  {
   "cell_type": "code",
   "execution_count": 81,
   "metadata": {},
   "outputs": [],
   "source": [
    "raw_water = pd.read_csv(\"water_benefits.csv\")\n",
    "raw_water = raw_water.dropna()\n",
    "for col in raw_water.columns:\n",
    "    if raw_water[col].dtype == float:\n",
    "        continue\n",
    "    raw_water[col] = raw_water[col].str.strip()\n",
    "    raw_water[col] = raw_water[col].str.replace(\",\",\"\")\n",
    "    \n",
    "raw_water[['Total H2O (kL)', 'Outdoor spas (2m x 2 m x 60cm deep)',\n",
    "       'Showers (10 min at 8.9 l/m)',\n",
    "       'Olympic swimming pools (50m x 25m x 2m deep = 2,500 kL H2O)']] = raw_water[['Total H2O (kL)', 'Outdoor spas (2m x 2 m x 60cm deep)',\n",
    "       'Showers (10 min at 8.9 l/m)',\n",
    "       'Olympic swimming pools (50m x 25m x 2m deep = 2,500 kL H2O)']].astype(int)\n",
    "raw_water = raw_water[['Total H2O (kL)', 'Outdoor spas (2m x 2 m x 60cm deep)',\n",
    "       'Showers (10 min at 8.9 l/m)',\n",
    "       'Olympic swimming pools (50m x 25m x 2m deep = 2,500 kL H2O)', 'Unnamed: 0']]\n",
    "raw_water.to_csv(\"cleaned_water.csv\", index=False)"
   ]
  },
  {
   "cell_type": "code",
   "execution_count": 89,
   "metadata": {},
   "outputs": [
    {
     "data": {
      "text/plain": [
       "index                                                                                     2\n",
       "Total H2O (kL)                                                                       482916\n",
       "Outdoor spas (2m x 2 m x 60cm deep)                                                  201231\n",
       "Showers (10 min at 8.9 l/m)                                                         5426044\n",
       "Olympic swimming pools (50m x 25m x 2m deep = 2,500 kL H2O)                             193\n",
       "Unnamed: 0                                                     Packaging Steel (steel cans)\n",
       "Name: 1, dtype: object"
      ]
     },
     "execution_count": 89,
     "metadata": {},
     "output_type": "execute_result"
    }
   ],
   "source": [
    "raw_water.reset_index().iloc[1]"
   ]
  },
  {
   "cell_type": "code",
   "execution_count": 106,
   "metadata": {},
   "outputs": [],
   "source": [
    "def to_sql(table, df, outfile):\n",
    "    with open(outfile, \"w+\") as o:\n",
    "        for row in range(len(df)):\n",
    "            line = f\"insert into {table} values (\"\n",
    "            for item in df.iloc[row]:\n",
    "                if type(item) != str:\n",
    "                    line += str(item) + \",\"\n",
    "                else:\n",
    "                    line += \"'\" + item + \"');\\n\"\n",
    "            o.writelines(line)\n",
    "\n",
    "to_sql(\"water\", raw_water, \"water_sql.sql\")"
   ]
  },
  {
   "cell_type": "code",
   "execution_count": 107,
   "metadata": {},
   "outputs": [],
   "source": [
    "to_sql(\"energy\", raw_energy, \"energy_sql.sql\")"
   ]
  }
 ],
 "metadata": {
  "kernelspec": {
   "display_name": "Python 3",
   "language": "python",
   "name": "python3"
  },
  "language_info": {
   "codemirror_mode": {
    "name": "ipython",
    "version": 3
   },
   "file_extension": ".py",
   "mimetype": "text/x-python",
   "name": "python",
   "nbconvert_exporter": "python",
   "pygments_lexer": "ipython3",
   "version": "3.8.3"
  }
 },
 "nbformat": 4,
 "nbformat_minor": 4
}
